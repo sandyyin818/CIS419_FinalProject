{
 "cells": [
  {
   "cell_type": "code",
   "execution_count": 5,
   "metadata": {},
   "outputs": [],
   "source": [
    "import numpy as np\n",
    "import pandas as pd\n",
    "import matplotlib.pyplot as plt\n",
    "\n",
    "# #check file paths for data paths \n",
    "# from os import listdir\n",
    "\n",
    "# #list files/directories in current directory\n",
    "# for file in listdir(\"./\"):\n",
    "#     print(file)\n",
    "    \n",
    "train_path = \"./data/train.csv\"\n",
    "test_path = \"./data/test.csv\"\n",
    "test_labels_path = \"./data/test_labels.csv\"\n",
    "\n",
    "#load data with pandas and return dataframes \n",
    "def load_data(train_path, test_path, test_labels_path):\n",
    "    train = pd.read_csv(train_path)\n",
    "    print(train[0:10])\n",
    "    test = pd.read_csv(test_path)\n",
    "    test_labels = pd.read_csv(test_labels_path)\n",
    "#     cols_target = ['obscene','insult','toxic','severe_toxic','identity_hate','threat']\n",
    "    return train, test, test_labels, cols_target\n",
    "\n",
    "\n",
    "train, test, test_labels, cols = load_data(train_path, test_path, test_labels_path)"
   ]
  },
  {
   "cell_type": "code",
   "execution_count": 53,
   "metadata": {},
   "outputs": [
    {
     "name": "stdout",
     "output_type": "stream",
     "text": [
      "                 id                                       comment_text  toxic  \\\n",
      "0  0000997932d777bf  Explanation\\nWhy the edits made under my usern...      0   \n",
      "1  000103f0d9cfb60f  D'aww! He matches this background colour I'm s...      0   \n",
      "2  000113f07ec002fd  Hey man, I'm really not trying to edit war. It...      0   \n",
      "3  0001b41b1c6bb37e  \"\\nMore\\nI can't make any real suggestions on ...      0   \n",
      "4  0001d958c54c6e35  You, sir, are my hero. Any chance you remember...      0   \n",
      "5  00025465d4725e87  \"\\n\\nCongratulations from me as well, use the ...      0   \n",
      "6  0002bcb3da6cb337       COCKSUCKER BEFORE YOU PISS AROUND ON MY WORK      1   \n",
      "7  00031b1e95af7921  Your vandalism to the Matt Shirvington article...      0   \n",
      "8  00037261f536c51d  Sorry if the word 'nonsense' was offensive to ...      0   \n",
      "9  00040093b2687caa  alignment on this subject and which are contra...      0   \n",
      "\n",
      "   severe_toxic  obscene  threat  insult  identity_hate  \n",
      "0             0        0       0       0              0  \n",
      "1             0        0       0       0              0  \n",
      "2             0        0       0       0              0  \n",
      "3             0        0       0       0              0  \n",
      "4             0        0       0       0              0  \n",
      "5             0        0       0       0              0  \n",
      "6             1        1       0       1              0  \n",
      "7             0        0       0       0              0  \n",
      "8             0        0       0       0              0  \n",
      "9             0        0       0       0              0  \n"
     ]
    }
   ],
   "source": [
    "print(train[0:10])"
   ]
  },
  {
   "cell_type": "code",
   "execution_count": 28,
   "metadata": {},
   "outputs": [
    {
     "name": "stdout",
     "output_type": "stream",
     "text": [
      "Train data length:  159571\n",
      "Test data length:  153164\n",
      "\n",
      "Percentage of unlabelled:  89.83211235124176\n",
      "obscene           8449\n",
      "insult            7877\n",
      "toxic            15294\n",
      "severe_toxic      1595\n",
      "identity_hate     1405\n",
      "threat             478\n",
      "dtype: int64\n"
     ]
    },
    {
     "data": {
      "image/png": "[encoded data removed]",
      "text/plain": [
       "<Figure size 432x288 with 1 Axes>"
      ]
     },
     "metadata": {
      "needs_background": "light"
     },
     "output_type": "display_data"
    }
   ],
   "source": [
    "#summarize data\n",
    "def summary():\n",
    "    labels = train.iloc[:,2:]\n",
    "    zero = np.where(np.sum(labels,axis=1)==0)\n",
    "    # Find the unlabelled percentage\n",
    "    unlabelled = train[(train['toxic']!=1) & (train['severe_toxic']!=1) &\\\n",
    "                                 (train['obscene']!=1) & (train['threat']!=1) &\\\n",
    "                                 (train['insult']!=1) & (train['identity_hate']!=1)]\n",
    "    print(\"Train data length: \", len(train))\n",
    "    print(\"Test data length: \", len(test))\n",
    "    print('\\nPercentage of unlabelled: ', len(unlabelled)/len(train)*100)\n",
    "    print(train[cols].sum())\n",
    "\n",
    "    train[cols].sum().plot.bar(title =\"Number of Comments by Label\")\n",
    "\n",
    "summary()"
   ]
  },
  {
   "cell_type": "code",
   "execution_count": 92,
   "metadata": {},
   "outputs": [
    {
     "name": "stdout",
     "output_type": "stream",
     "text": [
      "(500,)\n"
     ]
    }
   ],
   "source": [
    "def get_data(): \n",
    "    #temporarily only use 500 \n",
    "    test_comments = train.iloc[0:500,1]\n",
    "    train_comments = test.iloc[0:500,1]\n",
    "    \n",
    "    #labels as numpy \n",
    "    labels = train.iloc[0:500,2:]\n",
    "    labels['vector_label'] = labels.astype(str).values.sum(axis=1)\n",
    "    train_labels = labels['vector_label']\n",
    "    \n",
    "#     labels as pd dataframes\n",
    "#     toxic_train_labels = train.iloc[0:500,2:3]\n",
    "#     severe_toxic_labels = train.iloc[0:500,3:4] \n",
    "#     obscene_labels = train.iloc[0:500,4:5] \n",
    "#     threat_labels = train.iloc[0:500,5:6] \n",
    "#     insult_labels = train.iloc[0:500,6:7] \n",
    "#     identity_hate_labels = train.iloc[0:500,7:8] \n",
    "    \n",
    "#     return test_comments, train_comments, toxic_train_labels, severe_toxic_labels, obscene_labels, threat_labels, insult_labels, identity_hate_labels\n",
    "\n",
    "    return test_comments, train_comments, train_labels\n",
    "# test_comments, train_comments, toxic_train_labels, severe_toxic_labels, obscene_labels, threat_labels, insult_labels, identity_hate_labels = get_data()\n",
    "\n",
    "\n",
    "test_comments, train_comments, train_labels = get_data()\n",
    "\n"
   ]
  },
  {
   "cell_type": "code",
   "execution_count": 52,
   "metadata": {},
   "outputs": [],
   "source": [
    "#vectorize inputs\n",
    "from sklearn.feature_extraction.text import TfidfVectorizer\n",
    "\n",
    "def vectorize():\n",
    "    vectorizer = TfidfVectorizer(max_df=0.5, stop_words='english')\n",
    "    features_train = vectorizer.fit_transform(test_comments)\n",
    "    features_test = vectorizer.fit_transform(train_comments)\n",
    "    train_vocab = vectorizer.get_feature_names()\n",
    "#     print(train_vocab)\n",
    "    return features_train, features_test, vectorizer\n",
    "\n",
    "features_train, features_test, vectorizer = vectorize()\n",
    "    "
   ]
  },
  {
   "cell_type": "code",
   "execution_count": 85,
   "metadata": {},
   "outputs": [
    {
     "name": "stdout",
     "output_type": "stream",
     "text": [
      "0.902\n"
     ]
    }
   ],
   "source": [
    "from sklearn.naive_bayes import MultinomialNB\n",
    "\n",
    "model = MultinomialNB()\n",
    "\n",
    "model.fit(features_train, toxic_train_labels.values.ravel())\n",
    "score_train = model.score(features_train, toxic_train_labels.values.ravel())\n",
    "\n",
    "print(score_train)\n"
   ]
  },
  {
   "cell_type": "code",
   "execution_count": null,
   "metadata": {},
   "outputs": [],
   "source": []
  }
 ],
 "metadata": {
  "kernelspec": {
   "display_name": "Python 3",
   "language": "python",
   "name": "python3"
  },
  "language_info": {
   "codemirror_mode": {
    "name": "ipython",
    "version": 3
   },
   "file_extension": ".py",
   "mimetype": "text/x-python",
   "name": "python",
   "nbconvert_exporter": "python",
   "pygments_lexer": "ipython3",
   "version": "3.6.8"
  }
 },
 "nbformat": 4,
 "nbformat_minor": 2
}
