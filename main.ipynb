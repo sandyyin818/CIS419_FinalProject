{
 "cells": [
  {
   "cell_type": "code",
   "execution_count": null,
   "metadata": {},
   "outputs": [],
   "source": [
    "import numpy as np\n",
    "\n",
    "train_path = \"./data/train.csv\"\n",
    "test_path = \"./data/test.csv\"\n",
    "test_labels = \"./data/test_labels.csv\"\n",
    "\n",
    "def load_data(train_path, test_path, test_labels):\n",
    "    train = pd.read_csv(link + \"train.csv\")\n",
    "    test = pd.read_csv(link + \"test.csv\")\n",
    "    cols_target = ['obscene','insult','toxic','severe_toxic','identity_hate','threat']\n",
    "    return train, test, cols_target\n"
   ]
  }
 ],
 "metadata": {
  "kernelspec": {
   "display_name": "Python 3",
   "language": "python",
   "name": "python3"
  },
  "language_info": {
   "codemirror_mode": {
    "name": "ipython",
    "version": 3
   },
   "file_extension": ".py",
   "mimetype": "text/x-python",
   "name": "python",
   "nbconvert_exporter": "python",
   "pygments_lexer": "ipython3",
   "version": "3.6.8"
  }
 },
 "nbformat": 4,
 "nbformat_minor": 2
}
